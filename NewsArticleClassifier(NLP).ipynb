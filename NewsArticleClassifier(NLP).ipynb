{
  "nbformat": 4,
  "nbformat_minor": 0,
  "metadata": {
    "colab": {
      "name": "NewsArticleClassifier(NLP).ipynb",
      "provenance": [],
      "collapsed_sections": [],
      "include_colab_link": true
    },
    "kernelspec": {
      "display_name": "Python 3",
      "name": "python3"
    }
  },
  "cells": [
    {
      "cell_type": "markdown",
      "metadata": {
        "id": "view-in-github",
        "colab_type": "text"
      },
      "source": [
        "<a href=\"https://colab.research.google.com/github/AbhigyanSingh97/NewsClassifier_And_Online_news_fetcher/blob/main/NewsArticleClassifier(NLP).ipynb\" target=\"_parent\"><img src=\"https://colab.research.google.com/assets/colab-badge.svg\" alt=\"Open In Colab\"/></a>"
      ]
    },
    {
      "cell_type": "code",
      "metadata": {
        "id": "0_JU2cKOvZlT",
        "colab": {
          "base_uri": "https://localhost:8080/"
        },
        "outputId": "7adaa50c-4b79-4c89-92a8-5b88be63e7c6"
      },
      "source": [
        "#from google.colab import drive\n",
        "#drive.mount('/content/drive')"
      ],
      "execution_count": 47,
      "outputs": [
        {
          "output_type": "stream",
          "text": [
            "Drive already mounted at /content/drive; to attempt to forcibly remount, call drive.mount(\"/content/drive\", force_remount=True).\n"
          ],
          "name": "stdout"
        }
      ]
    },
    {
      "cell_type": "markdown",
      "metadata": {
        "id": "I2v0esJAKk4V"
      },
      "source": [
        "\r\n",
        "\r\n",
        "---\r\n",
        "\r\n",
        "---\r\n",
        "# Installing Libraries\r\n",
        "\r\n",
        "---\r\n",
        "---\r\n",
        "\r\n"
      ]
    },
    {
      "cell_type": "code",
      "metadata": {
        "colab": {
          "base_uri": "https://localhost:8080/"
        },
        "id": "i0jYbVcQK0XT",
        "outputId": "83ba7330-d479-4040-b1f4-b3f37b8342b0"
      },
      "source": [
        "!pip install autocorrect"
      ],
      "execution_count": 1,
      "outputs": [
        {
          "output_type": "stream",
          "text": [
            "Requirement already satisfied: autocorrect in /usr/local/lib/python3.6/dist-packages (2.3.0)\n"
          ],
          "name": "stdout"
        }
      ]
    },
    {
      "cell_type": "code",
      "metadata": {
        "colab": {
          "base_uri": "https://localhost:8080/"
        },
        "id": "TA1o54OkK1y3",
        "outputId": "350a5221-c345-4cb8-8561-e67b100a6f7f"
      },
      "source": [
        "import sys \r\n",
        "!{sys.executable} -m pip install contractions"
      ],
      "execution_count": 4,
      "outputs": [
        {
          "output_type": "stream",
          "text": [
            "Requirement already satisfied: contractions in /usr/local/lib/python3.6/dist-packages (0.0.45)\n",
            "Requirement already satisfied: textsearch in /usr/local/lib/python3.6/dist-packages (from contractions) (0.0.17)\n",
            "Requirement already satisfied: Unidecode in /usr/local/lib/python3.6/dist-packages (from textsearch->contractions) (1.1.2)\n",
            "Requirement already satisfied: pyahocorasick in /usr/local/lib/python3.6/dist-packages (from textsearch->contractions) (1.4.1)\n"
          ],
          "name": "stdout"
        }
      ]
    },
    {
      "cell_type": "code",
      "metadata": {
        "id": "cVGo0AJ6jWCX"
      },
      "source": [
        "!pip install zeugma"
      ],
      "execution_count": null,
      "outputs": []
    },
    {
      "cell_type": "markdown",
      "metadata": {
        "id": "9AjWGM15JkFB"
      },
      "source": [
        "\r\n",
        "\r\n",
        "---\r\n",
        "\r\n",
        "---\r\n",
        "\r\n",
        "# Importing Libraries\r\n",
        "\r\n",
        "\r\n",
        "---\r\n",
        "\r\n",
        "---\r\n",
        "\r\n",
        "\r\n",
        "\r\n",
        "\r\n",
        "\r\n"
      ]
    },
    {
      "cell_type": "code",
      "metadata": {
        "id": "Mfbs734jRluB",
        "colab": {
          "base_uri": "https://localhost:8080/",
          "height": 330
        },
        "outputId": "3acc773f-10d1-424d-e352-c8c819d16930"
      },
      "source": [
        "import re\r\n",
        "# --------------------------------------------------------------\r\n",
        "import pandas as pd\r\n",
        "import numpy as np\r\n",
        "import matplotlib.pyplot as plt\r\n",
        "import seaborn as sns\r\n",
        "# --------------------------------------------------------------\r\n",
        "import nltk\r\n",
        "from nltk.stem import WordNetLemmatizer,PorterStemmer\r\n",
        "from nltk.tokenize import word_tokenize\r\n",
        "from nltk.corpus import stopwords\r\n",
        "# --------------------------------------------------------------\r\n",
        "import contractions\r\n",
        "from autocorrect import Speller\r\n",
        "# --------------------------------------------------------------\r\n",
        "import pickle \r\n",
        "# --------------------------------------------------------------\r\n",
        "from sklearn.feature_extraction.text import TfidfVectorizer\r\n",
        "from sklearn.model_selection import train_test_split\r\n",
        "from sklearn.linear_model import LogisticRegression\r\n",
        "from sklearn.ensemble import RandomForestClassifier\r\n",
        "from sklearn.naive_bayes import MultinomialNB\r\n",
        "from sklearn.svm import SVC\r\n",
        "from sklearn.metrics import accuracy_score,matthews_corrcoef\r\n",
        "from sklearn.metrics import plot_confusion_matrix\r\n",
        "# --------------------------------------------------------------\r\n",
        "from zeugma.embeddings import EmbeddingTransformer"
      ],
      "execution_count": 1,
      "outputs": [
        {
          "output_type": "error",
          "ename": "ModuleNotFoundError",
          "evalue": "ignored",
          "traceback": [
            "\u001b[0;31m---------------------------------------------------------------------------\u001b[0m",
            "\u001b[0;31mModuleNotFoundError\u001b[0m                       Traceback (most recent call last)",
            "\u001b[0;32m<ipython-input-1-6780f08e8a99>\u001b[0m in \u001b[0;36m<module>\u001b[0;34m()\u001b[0m\n\u001b[1;32m     25\u001b[0m \u001b[0;32mfrom\u001b[0m \u001b[0msklearn\u001b[0m\u001b[0;34m.\u001b[0m\u001b[0mmetrics\u001b[0m \u001b[0;32mimport\u001b[0m \u001b[0mplot_confusion_matrix\u001b[0m\u001b[0;34m\u001b[0m\u001b[0;34m\u001b[0m\u001b[0m\n\u001b[1;32m     26\u001b[0m \u001b[0;31m# --------------------------------------------------------------\u001b[0m\u001b[0;34m\u001b[0m\u001b[0;34m\u001b[0m\u001b[0;34m\u001b[0m\u001b[0m\n\u001b[0;32m---> 27\u001b[0;31m \u001b[0;32mfrom\u001b[0m \u001b[0mzeugma\u001b[0m\u001b[0;34m.\u001b[0m\u001b[0membeddings\u001b[0m \u001b[0;32mimport\u001b[0m \u001b[0mEmbeddingTransformer\u001b[0m\u001b[0;34m\u001b[0m\u001b[0;34m\u001b[0m\u001b[0m\n\u001b[0m",
            "\u001b[0;31mModuleNotFoundError\u001b[0m: No module named 'zeugma'",
            "",
            "\u001b[0;31m---------------------------------------------------------------------------\u001b[0;32m\nNOTE: If your import is failing due to a missing package, you can\nmanually install dependencies using either !pip or !apt.\n\nTo view examples of installing some common dependencies, click the\n\"Open Examples\" button below.\n\u001b[0;31m---------------------------------------------------------------------------\u001b[0m\n"
          ]
        }
      ]
    },
    {
      "cell_type": "code",
      "metadata": {
        "id": "niIkPArVLKcQ"
      },
      "source": [
        "nltk.download('wordnet')\r\n",
        "nltk.download('punkt')\r\n",
        "nltk.download(\"stopwords\")"
      ],
      "execution_count": null,
      "outputs": []
    },
    {
      "cell_type": "markdown",
      "metadata": {
        "id": "Icnui5JLLPDp"
      },
      "source": [
        "\r\n",
        "\r\n",
        "---\r\n",
        "\r\n",
        "---\r\n",
        "# Getting Data\r\n",
        "---\r\n",
        "---\r\n",
        "\r\n"
      ]
    },
    {
      "cell_type": "code",
      "metadata": {
        "id": "Mz7if9-SU1tR",
        "colab": {
          "base_uri": "https://localhost:8080/",
          "height": 195
        },
        "outputId": "3d0dd7ef-c7f5-4ea3-d873-b277d91feae9"
      },
      "source": [
        "data = pd.read_json(\"/content/drive/My Drive/data/INSAID/NLP_Capstone_Project/NLP_Capstone_Project/Data/News_Category_Dataset_v2.json\", lines = True)\r\n",
        "data.head()"
      ],
      "execution_count": 4,
      "outputs": [
        {
          "output_type": "execute_result",
          "data": {
            "text/html": [
              "<div>\n",
              "<style scoped>\n",
              "    .dataframe tbody tr th:only-of-type {\n",
              "        vertical-align: middle;\n",
              "    }\n",
              "\n",
              "    .dataframe tbody tr th {\n",
              "        vertical-align: top;\n",
              "    }\n",
              "\n",
              "    .dataframe thead th {\n",
              "        text-align: right;\n",
              "    }\n",
              "</style>\n",
              "<table border=\"1\" class=\"dataframe\">\n",
              "  <thead>\n",
              "    <tr style=\"text-align: right;\">\n",
              "      <th></th>\n",
              "      <th>category</th>\n",
              "      <th>headline</th>\n",
              "      <th>authors</th>\n",
              "      <th>link</th>\n",
              "      <th>short_description</th>\n",
              "      <th>date</th>\n",
              "    </tr>\n",
              "  </thead>\n",
              "  <tbody>\n",
              "    <tr>\n",
              "      <th>0</th>\n",
              "      <td>CRIME</td>\n",
              "      <td>There Were 2 Mass Shootings In Texas Last Week...</td>\n",
              "      <td>Melissa Jeltsen</td>\n",
              "      <td>https://www.huffingtonpost.com/entry/texas-ama...</td>\n",
              "      <td>She left her husband. He killed their children...</td>\n",
              "      <td>2018-05-26</td>\n",
              "    </tr>\n",
              "    <tr>\n",
              "      <th>1</th>\n",
              "      <td>ENTERTAINMENT</td>\n",
              "      <td>Will Smith Joins Diplo And Nicky Jam For The 2...</td>\n",
              "      <td>Andy McDonald</td>\n",
              "      <td>https://www.huffingtonpost.com/entry/will-smit...</td>\n",
              "      <td>Of course it has a song.</td>\n",
              "      <td>2018-05-26</td>\n",
              "    </tr>\n",
              "    <tr>\n",
              "      <th>2</th>\n",
              "      <td>ENTERTAINMENT</td>\n",
              "      <td>Hugh Grant Marries For The First Time At Age 57</td>\n",
              "      <td>Ron Dicker</td>\n",
              "      <td>https://www.huffingtonpost.com/entry/hugh-gran...</td>\n",
              "      <td>The actor and his longtime girlfriend Anna Ebe...</td>\n",
              "      <td>2018-05-26</td>\n",
              "    </tr>\n",
              "    <tr>\n",
              "      <th>3</th>\n",
              "      <td>ENTERTAINMENT</td>\n",
              "      <td>Jim Carrey Blasts 'Castrato' Adam Schiff And D...</td>\n",
              "      <td>Ron Dicker</td>\n",
              "      <td>https://www.huffingtonpost.com/entry/jim-carre...</td>\n",
              "      <td>The actor gives Dems an ass-kicking for not fi...</td>\n",
              "      <td>2018-05-26</td>\n",
              "    </tr>\n",
              "    <tr>\n",
              "      <th>4</th>\n",
              "      <td>ENTERTAINMENT</td>\n",
              "      <td>Julianna Margulies Uses Donald Trump Poop Bags...</td>\n",
              "      <td>Ron Dicker</td>\n",
              "      <td>https://www.huffingtonpost.com/entry/julianna-...</td>\n",
              "      <td>The \"Dietland\" actress said using the bags is ...</td>\n",
              "      <td>2018-05-26</td>\n",
              "    </tr>\n",
              "  </tbody>\n",
              "</table>\n",
              "</div>"
            ],
            "text/plain": [
              "        category  ...       date\n",
              "0          CRIME  ... 2018-05-26\n",
              "1  ENTERTAINMENT  ... 2018-05-26\n",
              "2  ENTERTAINMENT  ... 2018-05-26\n",
              "3  ENTERTAINMENT  ... 2018-05-26\n",
              "4  ENTERTAINMENT  ... 2018-05-26\n",
              "\n",
              "[5 rows x 6 columns]"
            ]
          },
          "metadata": {
            "tags": []
          },
          "execution_count": 4
        }
      ]
    },
    {
      "cell_type": "code",
      "metadata": {
        "id": "IlkUoLH-XcXX"
      },
      "source": [
        "new_data = data.drop(['date','link'],axis = 1).copy()"
      ],
      "execution_count": 5,
      "outputs": []
    },
    {
      "cell_type": "code",
      "metadata": {
        "colab": {
          "base_uri": "https://localhost:8080/"
        },
        "id": "G-gmxB8ENxw-",
        "outputId": "cd21b1e4-15fd-4a14-e273-c4383da963d1"
      },
      "source": [
        "new_data.category.value_counts().dtypes"
      ],
      "execution_count": 6,
      "outputs": [
        {
          "output_type": "execute_result",
          "data": {
            "text/plain": [
              "dtype('int64')"
            ]
          },
          "metadata": {
            "tags": []
          },
          "execution_count": 6
        }
      ]
    },
    {
      "cell_type": "code",
      "metadata": {
        "colab": {
          "base_uri": "https://localhost:8080/",
          "height": 481
        },
        "id": "M_I__vCTa3RI",
        "outputId": "64b059e8-759d-4521-ed4f-3a4570da2613"
      },
      "source": [
        "plt.figure(figsize = (10,5))\r\n",
        "plt.xticks(rotation=90)\r\n",
        "sns.countplot(new_data.category, order=new_data.category.value_counts().index)"
      ],
      "execution_count": 7,
      "outputs": [
        {
          "output_type": "stream",
          "text": [
            "/usr/local/lib/python3.6/dist-packages/seaborn/_decorators.py:43: FutureWarning: Pass the following variable as a keyword arg: x. From version 0.12, the only valid positional argument will be `data`, and passing other arguments without an explicit keyword will result in an error or misinterpretation.\n",
            "  FutureWarning\n"
          ],
          "name": "stderr"
        },
        {
          "output_type": "execute_result",
          "data": {
            "text/plain": [
              "<matplotlib.axes._subplots.AxesSubplot at 0x7fbd62db7b38>"
            ]
          },
          "metadata": {
            "tags": []
          },
          "execution_count": 7
        },
        {
          "output_type": "display_data",
          "data": {
            "image/png": "[encoded data removed]",
            "text/plain": [
              "<Figure size 720x360 with 1 Axes>"
            ]
          },
          "metadata": {
            "tags": [],
            "needs_background": "light"
          }
        }
      ]
    },
    {
      "cell_type": "markdown",
      "metadata": {
        "id": "WS6JtM7mOxU6"
      },
      "source": [
        "\r\n",
        "\r\n",
        "---\r\n",
        "\r\n",
        "---\r\n",
        "# Data Cleaning\r\n",
        "\r\n",
        "--- \r\n",
        "---\r\n",
        "\r\n",
        "\r\n"
      ]
    },
    {
      "cell_type": "code",
      "metadata": {
        "id": "_BgXiqhoa8Ln"
      },
      "source": [
        "new_data.category = new_data.category.map(lambda x: \"WORLDPOST\" if x == \"THE WORLDPOST\" else x)\r\n",
        "new_data.category = new_data.category.map(lambda x: \"EDUCATION\" if x == \"COLLEGE\" else x)\r\n",
        "new_data.category = new_data.category.map(lambda x: \"ARTS & CULTURE\" if x == \"ARTS\" else x)\r\n",
        "new_data.category = new_data.category.map(lambda x: \"FOOD & DRINK\" if x == \"TASTE\" else x)\r\n",
        "new_data.category = new_data.category.map(lambda x: \"PARENTING\" if x == \"PARENTS\" else x)\r\n",
        "new_data.category = new_data.category.map(lambda x: \"STYLE & BEAUTY\" if x == \"STYLE\" else x)\r\n",
        "new_data.category = new_data.category.map(lambda x: \"WORLDPOST\" if x == \"WORLD NEWS\" else x)"
      ],
      "execution_count": 8,
      "outputs": []
    },
    {
      "cell_type": "code",
      "metadata": {
        "colab": {
          "base_uri": "https://localhost:8080/"
        },
        "id": "xRHiJCzTbA7P",
        "outputId": "858c597b-a8a2-4cce-ab34-d5796dc53dfa"
      },
      "source": [
        "print(new_data.category.nunique())\r\n",
        "print(new_data.category.value_counts())"
      ],
      "execution_count": 9,
      "outputs": [
        {
          "output_type": "stream",
          "text": [
            "34\n",
            "POLITICS          32739\n",
            "WELLNESS          17827\n",
            "ENTERTAINMENT     16058\n",
            "PARENTING         12632\n",
            "STYLE & BEAUTY    11903\n",
            "TRAVEL             9887\n",
            "WORLDPOST          8420\n",
            "FOOD & DRINK       8322\n",
            "HEALTHY LIVING     6694\n",
            "QUEER VOICES       6314\n",
            "BUSINESS           5937\n",
            "COMEDY             5175\n",
            "SPORTS             4884\n",
            "BLACK VOICES       4528\n",
            "HOME & LIVING      4195\n",
            "WEDDINGS           3651\n",
            "WOMEN              3490\n",
            "IMPACT             3459\n",
            "DIVORCE            3426\n",
            "CRIME              3405\n",
            "ARTS & CULTURE     2848\n",
            "MEDIA              2815\n",
            "WEIRD NEWS         2670\n",
            "GREEN              2622\n",
            "RELIGION           2556\n",
            "SCIENCE            2178\n",
            "EDUCATION          2148\n",
            "TECH               2082\n",
            "MONEY              1707\n",
            "FIFTY              1401\n",
            "GOOD NEWS          1398\n",
            "ENVIRONMENT        1323\n",
            "LATINO VOICES      1129\n",
            "CULTURE & ARTS     1030\n",
            "Name: category, dtype: int64\n"
          ],
          "name": "stdout"
        }
      ]
    },
    {
      "cell_type": "markdown",
      "metadata": {
        "id": "JO_owRqAO5qc"
      },
      "source": [
        "## Handling Null Values"
      ]
    },
    {
      "cell_type": "code",
      "metadata": {
        "colab": {
          "base_uri": "https://localhost:8080/"
        },
        "id": "emtZgcGfVwxM",
        "outputId": "14cebccb-110d-43ff-a55f-5134232aaee5"
      },
      "source": [
        "for i in new_data.columns:\r\n",
        "  print(i)\r\n",
        "  print(len(new_data[new_data[i] == \"\"]))\r\n",
        "  print(\"--------------------\")"
      ],
      "execution_count": 10,
      "outputs": [
        {
          "output_type": "stream",
          "text": [
            "category\n",
            "0\n",
            "--------------------\n",
            "headline\n",
            "6\n",
            "--------------------\n",
            "authors\n",
            "36620\n",
            "--------------------\n",
            "short_description\n",
            "19712\n",
            "--------------------\n"
          ],
          "name": "stdout"
        }
      ]
    },
    {
      "cell_type": "code",
      "metadata": {
        "colab": {
          "base_uri": "https://localhost:8080/",
          "height": 225
        },
        "id": "zBz1_fYmXjnD",
        "outputId": "85a9b871-bd31-4526-fdf4-fe2d80911ff2"
      },
      "source": [
        "new_data[new_data['headline'] == \"\"]"
      ],
      "execution_count": 11,
      "outputs": [
        {
          "output_type": "execute_result",
          "data": {
            "text/html": [
              "<div>\n",
              "<style scoped>\n",
              "    .dataframe tbody tr th:only-of-type {\n",
              "        vertical-align: middle;\n",
              "    }\n",
              "\n",
              "    .dataframe tbody tr th {\n",
              "        vertical-align: top;\n",
              "    }\n",
              "\n",
              "    .dataframe thead th {\n",
              "        text-align: right;\n",
              "    }\n",
              "</style>\n",
              "<table border=\"1\" class=\"dataframe\">\n",
              "  <thead>\n",
              "    <tr style=\"text-align: right;\">\n",
              "      <th></th>\n",
              "      <th>category</th>\n",
              "      <th>headline</th>\n",
              "      <th>authors</th>\n",
              "      <th>short_description</th>\n",
              "    </tr>\n",
              "  </thead>\n",
              "  <tbody>\n",
              "    <tr>\n",
              "      <th>82270</th>\n",
              "      <td>POLITICS</td>\n",
              "      <td></td>\n",
              "      <td>Robert Moran, ContributorRobert Moran leads Br...</td>\n",
              "      <td></td>\n",
              "    </tr>\n",
              "    <tr>\n",
              "      <th>86893</th>\n",
              "      <td>RELIGION</td>\n",
              "      <td></td>\n",
              "      <td>Matthew Fox, ContributorRadical theologian Mat...</td>\n",
              "      <td>Let everyone not wrapped in tired and disprove...</td>\n",
              "    </tr>\n",
              "    <tr>\n",
              "      <th>95001</th>\n",
              "      <td>WORLDPOST</td>\n",
              "      <td></td>\n",
              "      <td>Natasha Srdoc, ContributorAuthor, Economist, C...</td>\n",
              "      <td></td>\n",
              "    </tr>\n",
              "    <tr>\n",
              "      <th>100426</th>\n",
              "      <td>BUSINESS</td>\n",
              "      <td></td>\n",
              "      <td>Gary Snyder, ContributorWriter and Media Strat...</td>\n",
              "      <td></td>\n",
              "    </tr>\n",
              "    <tr>\n",
              "      <th>101479</th>\n",
              "      <td>MEDIA</td>\n",
              "      <td></td>\n",
              "      <td>Gary Snyder, ContributorWriter and Media Strat...</td>\n",
              "      <td></td>\n",
              "    </tr>\n",
              "    <tr>\n",
              "      <th>113471</th>\n",
              "      <td>QUEER VOICES</td>\n",
              "      <td></td>\n",
              "      <td>Gary Snyder, ContributorWriter and Media Strat...</td>\n",
              "      <td></td>\n",
              "    </tr>\n",
              "  </tbody>\n",
              "</table>\n",
              "</div>"
            ],
            "text/plain": [
              "            category  ...                                  short_description\n",
              "82270       POLITICS  ...                                                   \n",
              "86893       RELIGION  ...  Let everyone not wrapped in tired and disprove...\n",
              "95001      WORLDPOST  ...                                                   \n",
              "100426      BUSINESS  ...                                                   \n",
              "101479         MEDIA  ...                                                   \n",
              "113471  QUEER VOICES  ...                                                   \n",
              "\n",
              "[6 rows x 4 columns]"
            ]
          },
          "metadata": {
            "tags": []
          },
          "execution_count": 11
        }
      ]
    },
    {
      "cell_type": "code",
      "metadata": {
        "id": "EL7MoDpMY0Zb"
      },
      "source": [
        "new_data = new_data[new_data['headline'] != \"\"]"
      ],
      "execution_count": 12,
      "outputs": []
    },
    {
      "cell_type": "code",
      "metadata": {
        "id": "QGP7snaIZX49"
      },
      "source": [
        "new_data = new_data[new_data['short_description'] != \"\"]"
      ],
      "execution_count": 13,
      "outputs": []
    },
    {
      "cell_type": "code",
      "metadata": {
        "id": "zh_tZOmlimHv"
      },
      "source": [
        "names = []\r\n",
        "for i in new_data.authors:\r\n",
        "  j = i.split()\r\n",
        "  if len(j) >2:\r\n",
        "    names.append(i)\r\n"
      ],
      "execution_count": 14,
      "outputs": []
    },
    {
      "cell_type": "code",
      "metadata": {
        "id": "zPKpYOfJnf_h"
      },
      "source": [
        "new_data['authors'].replace(\"\",\"Unknown\",inplace = True)"
      ],
      "execution_count": 15,
      "outputs": []
    },
    {
      "cell_type": "code",
      "metadata": {
        "id": "7WpnWD2Fi8Bs"
      },
      "source": [
        "authors = new_data.authors.str.split(\",\", n = 1,expand = True)"
      ],
      "execution_count": 16,
      "outputs": []
    },
    {
      "cell_type": "code",
      "metadata": {
        "colab": {
          "base_uri": "https://localhost:8080/"
        },
        "id": "j_zwULKHmWPC",
        "outputId": "71822321-344d-4f20-91df-7a28c0bd670b"
      },
      "source": [
        "authors.isnull().sum()"
      ],
      "execution_count": 17,
      "outputs": [
        {
          "output_type": "execute_result",
          "data": {
            "text/plain": [
              "0         0\n",
              "1    103917\n",
              "dtype: int64"
            ]
          },
          "metadata": {
            "tags": []
          },
          "execution_count": 17
        }
      ]
    },
    {
      "cell_type": "code",
      "metadata": {
        "colab": {
          "base_uri": "https://localhost:8080/"
        },
        "id": "-lP_SvT0nv6I",
        "outputId": "b00e5218-7a96-4dbd-c495-c68d77651a97"
      },
      "source": [
        "len(authors[authors[0] == \"\"])"
      ],
      "execution_count": 18,
      "outputs": [
        {
          "output_type": "execute_result",
          "data": {
            "text/plain": [
              "0"
            ]
          },
          "metadata": {
            "tags": []
          },
          "execution_count": 18
        }
      ]
    },
    {
      "cell_type": "code",
      "metadata": {
        "colab": {
          "base_uri": "https://localhost:8080/",
          "height": 35
        },
        "id": "6Baz4LeZlns7",
        "outputId": "262eea0c-0bb3-45f1-c483-909da0d1276a"
      },
      "source": [
        "names[11]"
      ],
      "execution_count": 19,
      "outputs": [
        {
          "output_type": "execute_result",
          "data": {
            "application/vnd.google.colaboratory.intrinsic+json": {
              "type": "string"
            },
            "text/plain": [
              "'Jesselyn Cook and Nick Robins-Early'"
            ]
          },
          "metadata": {
            "tags": []
          },
          "execution_count": 19
        }
      ]
    },
    {
      "cell_type": "code",
      "metadata": {
        "id": "rMr_YCwfl7sZ"
      },
      "source": [
        "new_data['authors_name'] = authors[0]\r\n",
        "new_data['authors_description'] = authors[1]"
      ],
      "execution_count": 20,
      "outputs": []
    },
    {
      "cell_type": "code",
      "metadata": {
        "id": "9XZVaDqF-dVU",
        "colab": {
          "base_uri": "https://localhost:8080/"
        },
        "outputId": "d03939ff-031e-48cb-c408-80c9cc387c25"
      },
      "source": [
        "new_data[new_data['authors_name'] == 'Unknown'][['category']].value_counts()"
      ],
      "execution_count": 21,
      "outputs": [
        {
          "output_type": "execute_result",
          "data": {
            "text/plain": [
              "category      \n",
              "WELLNESS          4998\n",
              "POLITICS          2665\n",
              "STYLE & BEAUTY    2558\n",
              "PARENTING         2333\n",
              "WEDDINGS          1948\n",
              "FOOD & DRINK      1853\n",
              "WORLDPOST         1817\n",
              "DIVORCE           1731\n",
              "TRAVEL            1397\n",
              "ENTERTAINMENT     1278\n",
              "QUEER VOICES       901\n",
              "BLACK VOICES       862\n",
              "HOME & LIVING      794\n",
              "SPORTS             776\n",
              "BUSINESS           757\n",
              "CRIME              715\n",
              "COMEDY             708\n",
              "ENVIRONMENT        651\n",
              "TECH               422\n",
              "SCIENCE            371\n",
              "CULTURE & ARTS     368\n",
              "GREEN              364\n",
              "WEIRD NEWS         319\n",
              "MEDIA              299\n",
              "WOMEN              262\n",
              "MONEY              214\n",
              "HEALTHY LIVING     193\n",
              "LATINO VOICES      144\n",
              "IMPACT             141\n",
              "GOOD NEWS          122\n",
              "RELIGION            96\n",
              "EDUCATION           68\n",
              "ARTS & CULTURE      32\n",
              "dtype: int64"
            ]
          },
          "metadata": {
            "tags": []
          },
          "execution_count": 21
        }
      ]
    },
    {
      "cell_type": "code",
      "metadata": {
        "colab": {
          "base_uri": "https://localhost:8080/",
          "height": 195
        },
        "id": "iZyhKULCpfXN",
        "outputId": "eab6bccd-b372-4399-e649-81ae736c3ca5"
      },
      "source": [
        "new_data.head()"
      ],
      "execution_count": 22,
      "outputs": [
        {
          "output_type": "execute_result",
          "data": {
            "text/html": [
              "<div>\n",
              "<style scoped>\n",
              "    .dataframe tbody tr th:only-of-type {\n",
              "        vertical-align: middle;\n",
              "    }\n",
              "\n",
              "    .dataframe tbody tr th {\n",
              "        vertical-align: top;\n",
              "    }\n",
              "\n",
              "    .dataframe thead th {\n",
              "        text-align: right;\n",
              "    }\n",
              "</style>\n",
              "<table border=\"1\" class=\"dataframe\">\n",
              "  <thead>\n",
              "    <tr style=\"text-align: right;\">\n",
              "      <th></th>\n",
              "      <th>category</th>\n",
              "      <th>headline</th>\n",
              "      <th>authors</th>\n",
              "      <th>short_description</th>\n",
              "      <th>authors_name</th>\n",
              "      <th>authors_description</th>\n",
              "    </tr>\n",
              "  </thead>\n",
              "  <tbody>\n",
              "    <tr>\n",
              "      <th>0</th>\n",
              "      <td>CRIME</td>\n",
              "      <td>There Were 2 Mass Shootings In Texas Last Week...</td>\n",
              "      <td>Melissa Jeltsen</td>\n",
              "      <td>She left her husband. He killed their children...</td>\n",
              "      <td>Melissa Jeltsen</td>\n",
              "      <td>None</td>\n",
              "    </tr>\n",
              "    <tr>\n",
              "      <th>1</th>\n",
              "      <td>ENTERTAINMENT</td>\n",
              "      <td>Will Smith Joins Diplo And Nicky Jam For The 2...</td>\n",
              "      <td>Andy McDonald</td>\n",
              "      <td>Of course it has a song.</td>\n",
              "      <td>Andy McDonald</td>\n",
              "      <td>None</td>\n",
              "    </tr>\n",
              "    <tr>\n",
              "      <th>2</th>\n",
              "      <td>ENTERTAINMENT</td>\n",
              "      <td>Hugh Grant Marries For The First Time At Age 57</td>\n",
              "      <td>Ron Dicker</td>\n",
              "      <td>The actor and his longtime girlfriend Anna Ebe...</td>\n",
              "      <td>Ron Dicker</td>\n",
              "      <td>None</td>\n",
              "    </tr>\n",
              "    <tr>\n",
              "      <th>3</th>\n",
              "      <td>ENTERTAINMENT</td>\n",
              "      <td>Jim Carrey Blasts 'Castrato' Adam Schiff And D...</td>\n",
              "      <td>Ron Dicker</td>\n",
              "      <td>The actor gives Dems an ass-kicking for not fi...</td>\n",
              "      <td>Ron Dicker</td>\n",
              "      <td>None</td>\n",
              "    </tr>\n",
              "    <tr>\n",
              "      <th>4</th>\n",
              "      <td>ENTERTAINMENT</td>\n",
              "      <td>Julianna Margulies Uses Donald Trump Poop Bags...</td>\n",
              "      <td>Ron Dicker</td>\n",
              "      <td>The \"Dietland\" actress said using the bags is ...</td>\n",
              "      <td>Ron Dicker</td>\n",
              "      <td>None</td>\n",
              "    </tr>\n",
              "  </tbody>\n",
              "</table>\n",
              "</div>"
            ],
            "text/plain": [
              "        category  ... authors_description\n",
              "0          CRIME  ...                None\n",
              "1  ENTERTAINMENT  ...                None\n",
              "2  ENTERTAINMENT  ...                None\n",
              "3  ENTERTAINMENT  ...                None\n",
              "4  ENTERTAINMENT  ...                None\n",
              "\n",
              "[5 rows x 6 columns]"
            ]
          },
          "metadata": {
            "tags": []
          },
          "execution_count": 22
        }
      ]
    },
    {
      "cell_type": "code",
      "metadata": {
        "colab": {
          "base_uri": "https://localhost:8080/"
        },
        "id": "gkApSGvvbcJZ",
        "outputId": "03739a06-268f-4d68-d130-50340b9852ee"
      },
      "source": [
        "print(f\"There are {new_data.authors.nunique()} authors in our data\")"
      ],
      "execution_count": 23,
      "outputs": [
        {
          "output_type": "stream",
          "text": [
            "There are 27136 authors in our data\n"
          ],
          "name": "stdout"
        }
      ]
    },
    {
      "cell_type": "code",
      "metadata": {
        "id": "53BApS4rphY-"
      },
      "source": [
        "df = new_data[['headline','short_description','category']]"
      ],
      "execution_count": 24,
      "outputs": []
    },
    {
      "cell_type": "code",
      "metadata": {
        "colab": {
          "base_uri": "https://localhost:8080/",
          "height": 195
        },
        "id": "N5-iWxNXrccs",
        "outputId": "a0bb56b6-4258-41f8-fdac-3f709bf61d01"
      },
      "source": [
        "df.reset_index(drop=True)\r\n",
        "df.head()"
      ],
      "execution_count": 25,
      "outputs": [
        {
          "output_type": "execute_result",
          "data": {
            "text/html": [
              "<div>\n",
              "<style scoped>\n",
              "    .dataframe tbody tr th:only-of-type {\n",
              "        vertical-align: middle;\n",
              "    }\n",
              "\n",
              "    .dataframe tbody tr th {\n",
              "        vertical-align: top;\n",
              "    }\n",
              "\n",
              "    .dataframe thead th {\n",
              "        text-align: right;\n",
              "    }\n",
              "</style>\n",
              "<table border=\"1\" class=\"dataframe\">\n",
              "  <thead>\n",
              "    <tr style=\"text-align: right;\">\n",
              "      <th></th>\n",
              "      <th>headline</th>\n",
              "      <th>short_description</th>\n",
              "      <th>category</th>\n",
              "    </tr>\n",
              "  </thead>\n",
              "  <tbody>\n",
              "    <tr>\n",
              "      <th>0</th>\n",
              "      <td>There Were 2 Mass Shootings In Texas Last Week...</td>\n",
              "      <td>She left her husband. He killed their children...</td>\n",
              "      <td>CRIME</td>\n",
              "    </tr>\n",
              "    <tr>\n",
              "      <th>1</th>\n",
              "      <td>Will Smith Joins Diplo And Nicky Jam For The 2...</td>\n",
              "      <td>Of course it has a song.</td>\n",
              "      <td>ENTERTAINMENT</td>\n",
              "    </tr>\n",
              "    <tr>\n",
              "      <th>2</th>\n",
              "      <td>Hugh Grant Marries For The First Time At Age 57</td>\n",
              "      <td>The actor and his longtime girlfriend Anna Ebe...</td>\n",
              "      <td>ENTERTAINMENT</td>\n",
              "    </tr>\n",
              "    <tr>\n",
              "      <th>3</th>\n",
              "      <td>Jim Carrey Blasts 'Castrato' Adam Schiff And D...</td>\n",
              "      <td>The actor gives Dems an ass-kicking for not fi...</td>\n",
              "      <td>ENTERTAINMENT</td>\n",
              "    </tr>\n",
              "    <tr>\n",
              "      <th>4</th>\n",
              "      <td>Julianna Margulies Uses Donald Trump Poop Bags...</td>\n",
              "      <td>The \"Dietland\" actress said using the bags is ...</td>\n",
              "      <td>ENTERTAINMENT</td>\n",
              "    </tr>\n",
              "  </tbody>\n",
              "</table>\n",
              "</div>"
            ],
            "text/plain": [
              "                                            headline  ...       category\n",
              "0  There Were 2 Mass Shootings In Texas Last Week...  ...          CRIME\n",
              "1  Will Smith Joins Diplo And Nicky Jam For The 2...  ...  ENTERTAINMENT\n",
              "2    Hugh Grant Marries For The First Time At Age 57  ...  ENTERTAINMENT\n",
              "3  Jim Carrey Blasts 'Castrato' Adam Schiff And D...  ...  ENTERTAINMENT\n",
              "4  Julianna Margulies Uses Donald Trump Poop Bags...  ...  ENTERTAINMENT\n",
              "\n",
              "[5 rows x 3 columns]"
            ]
          },
          "metadata": {
            "tags": []
          },
          "execution_count": 25
        }
      ]
    },
    {
      "cell_type": "markdown",
      "metadata": {
        "id": "zR7FmenFb0NP"
      },
      "source": [
        "---\r\n",
        "---\r\n",
        "# Feature Engineering\r\n",
        "\r\n",
        "---\r\n",
        "---"
      ]
    },
    {
      "cell_type": "code",
      "metadata": {
        "colab": {
          "base_uri": "https://localhost:8080/"
        },
        "id": "_Crl7x0Grpww",
        "outputId": "f1279878-70ca-46f8-a452-20527158ec55"
      },
      "source": [
        "df['total'] =df['headline'] + \" \" + df['short_description']"
      ],
      "execution_count": 26,
      "outputs": [
        {
          "output_type": "stream",
          "text": [
            "/usr/local/lib/python3.6/dist-packages/ipykernel_launcher.py:1: SettingWithCopyWarning: \n",
            "A value is trying to be set on a copy of a slice from a DataFrame.\n",
            "Try using .loc[row_indexer,col_indexer] = value instead\n",
            "\n",
            "See the caveats in the documentation: https://pandas.pydata.org/pandas-docs/stable/user_guide/indexing.html#returning-a-view-versus-a-copy\n",
            "  \"\"\"Entry point for launching an IPython kernel.\n"
          ],
          "name": "stderr"
        }
      ]
    },
    {
      "cell_type": "code",
      "metadata": {
        "colab": {
          "base_uri": "https://localhost:8080/",
          "height": 106
        },
        "id": "s4DA2TLMtHCO",
        "outputId": "22331baf-3fa0-44f1-f380-4e03dd14887a"
      },
      "source": [
        "df.head(2)"
      ],
      "execution_count": 28,
      "outputs": [
        {
          "output_type": "execute_result",
          "data": {
            "text/html": [
              "<div>\n",
              "<style scoped>\n",
              "    .dataframe tbody tr th:only-of-type {\n",
              "        vertical-align: middle;\n",
              "    }\n",
              "\n",
              "    .dataframe tbody tr th {\n",
              "        vertical-align: top;\n",
              "    }\n",
              "\n",
              "    .dataframe thead th {\n",
              "        text-align: right;\n",
              "    }\n",
              "</style>\n",
              "<table border=\"1\" class=\"dataframe\">\n",
              "  <thead>\n",
              "    <tr style=\"text-align: right;\">\n",
              "      <th></th>\n",
              "      <th>headline</th>\n",
              "      <th>short_description</th>\n",
              "      <th>category</th>\n",
              "      <th>total</th>\n",
              "    </tr>\n",
              "  </thead>\n",
              "  <tbody>\n",
              "    <tr>\n",
              "      <th>0</th>\n",
              "      <td>There Were 2 Mass Shootings In Texas Last Week...</td>\n",
              "      <td>She left her husband. He killed their children...</td>\n",
              "      <td>CRIME</td>\n",
              "      <td>There Were 2 Mass Shootings In Texas Last Week...</td>\n",
              "    </tr>\n",
              "    <tr>\n",
              "      <th>1</th>\n",
              "      <td>Will Smith Joins Diplo And Nicky Jam For The 2...</td>\n",
              "      <td>Of course it has a song.</td>\n",
              "      <td>ENTERTAINMENT</td>\n",
              "      <td>Will Smith Joins Diplo And Nicky Jam For The 2...</td>\n",
              "    </tr>\n",
              "  </tbody>\n",
              "</table>\n",
              "</div>"
            ],
            "text/plain": [
              "                                            headline  ...                                              total\n",
              "0  There Were 2 Mass Shootings In Texas Last Week...  ...  There Were 2 Mass Shootings In Texas Last Week...\n",
              "1  Will Smith Joins Diplo And Nicky Jam For The 2...  ...  Will Smith Joins Diplo And Nicky Jam For The 2...\n",
              "\n",
              "[2 rows x 4 columns]"
            ]
          },
          "metadata": {
            "tags": []
          },
          "execution_count": 28
        }
      ]
    },
    {
      "cell_type": "markdown",
      "metadata": {
        "id": "m9xkT5Sgtan3"
      },
      "source": [
        "---\r\n",
        "---\r\n",
        "# Data preprocessing\r\n",
        "\r\n",
        "---\r\n",
        "---"
      ]
    },
    {
      "cell_type": "code",
      "metadata": {
        "id": "IlIVHcntwGZ2"
      },
      "source": [
        "df_cleaned = df[['total','category']]"
      ],
      "execution_count": 56,
      "outputs": []
    },
    {
      "cell_type": "code",
      "metadata": {
        "id": "VRenroC479mB"
      },
      "source": [
        "stop_words = stopwords.words('english')"
      ],
      "execution_count": 39,
      "outputs": []
    },
    {
      "cell_type": "code",
      "metadata": {
        "colab": {
          "base_uri": "https://localhost:8080/",
          "height": 35
        },
        "id": "j_ETyHFk_-_i",
        "outputId": "2169f6ef-c681-412a-a682-3e94574d3b59"
      },
      "source": [
        "def expand_contractions(text):\r\n",
        "  sent = \"\"\r\n",
        "  for word in text.split():\r\n",
        "    sent = sent + \" \" + contractions.fix(word)\r\n",
        "  return sent.lower()\r\n",
        "\r\n",
        "expand_contractions(df_cleaned.total[20])"
      ],
      "execution_count": 57,
      "outputs": [
        {
          "output_type": "execute_result",
          "data": {
            "application/vnd.google.colaboratory.intrinsic+json": {
              "type": "string"
            },
            "text/plain": [
              "\" weird father's day gifts your dad does not know he wants (but he does) why buy a boring tie when you can give him testicle plush toys?\""
            ]
          },
          "metadata": {
            "tags": []
          },
          "execution_count": 57
        }
      ]
    },
    {
      "cell_type": "code",
      "metadata": {
        "colab": {
          "base_uri": "https://localhost:8080/",
          "height": 35
        },
        "id": "yfQchhGlXlcH",
        "outputId": "242ad491-405a-48d2-9470-58057cac58d8"
      },
      "source": [
        "def spell_check(text):\r\n",
        "  spell = Speller()\r\n",
        "  sent = \" \"\r\n",
        "  spells = [spell(w) for w in (nltk.word_tokenize(text))]  \r\n",
        "  return sent.join(spells)\r\n",
        "\r\n",
        "spell_check(expand_contractions(df_cleaned.total[20]))"
      ],
      "execution_count": 58,
      "outputs": [
        {
          "output_type": "execute_result",
          "data": {
            "application/vnd.google.colaboratory.intrinsic+json": {
              "type": "string"
            },
            "text/plain": [
              "\"weird father 's day gifts your dad does not know he wants ( but he does ) why buy a boring tie when you can give him textile plush toys ?\""
            ]
          },
          "metadata": {
            "tags": []
          },
          "execution_count": 58
        }
      ]
    },
    {
      "cell_type": "code",
      "metadata": {
        "id": "I2YNzGqwv4v9"
      },
      "source": [
        "def text_preprocess(data,x):\r\n",
        "  lemmatizer = WordNetLemmatizer()\r\n",
        "  for i,row in data.iterrows():\r\n",
        "      filter_Sentence = ''\r\n",
        "\r\n",
        "      sentence = row[x]\r\n",
        "      sentence = expand_contractions(sentence)\r\n",
        "      #sentence = spell_check(sentence)\r\n",
        "      sentence = re.sub(r'[^\\w\\s]',' ',sentence)\r\n",
        "      sentence = re.sub(r\"\\s+\",\" \", sentence, flags = re.I)#removing extra space\r\n",
        "      sentence = re.sub(r\"\\d\", \" \", sentence)#removing digits\r\n",
        "      sentence = re.sub(r\"\\s+[a-zA-Z]\\s+\", \" \", sentence)#removing single characters\r\n",
        "      sentence = re.sub(r\"[,@\\'?\\.$%_]\", \"\", sentence, flags=re.I)#removing multiple characters\r\n",
        "\r\n",
        "      words = nltk.word_tokenize(sentence)\r\n",
        "\r\n",
        "      #words = [w for w in words if not w in stop_words]\r\n",
        "\r\n",
        "      for word in words:\r\n",
        "          #filter_Sentence = filter_Sentence + ' ' + str(word)\r\n",
        "          filter_Sentence = filter_Sentence + ' ' + str(lemmatizer.lemmatize(word))\r\n",
        "\r\n",
        "      data.loc[i,x] = sentence\r\n",
        "  return data"
      ],
      "execution_count": 60,
      "outputs": []
    },
    {
      "cell_type": "code",
      "metadata": {
        "colab": {
          "base_uri": "https://localhost:8080/",
          "height": 346
        },
        "id": "zU9WCnpuYKKX",
        "outputId": "69624e09-1d28-41bc-ac3c-1b3cf8827fd8"
      },
      "source": [
        "text_preprocess(df_cleaned,'total').head()"
      ],
      "execution_count": 62,
      "outputs": [
        {
          "output_type": "stream",
          "text": [
            "/usr/local/lib/python3.6/dist-packages/pandas/core/indexing.py:670: SettingWithCopyWarning: \n",
            "A value is trying to be set on a copy of a slice from a DataFrame\n",
            "\n",
            "See the caveats in the documentation: https://pandas.pydata.org/pandas-docs/stable/user_guide/indexing.html#returning-a-view-versus-a-copy\n",
            "  iloc._setitem_with_indexer(indexer, value)\n",
            "/usr/local/lib/python3.6/dist-packages/ipykernel_launcher.py:23: SettingWithCopyWarning: \n",
            "A value is trying to be set on a copy of a slice from a DataFrame\n",
            "\n",
            "See the caveats in the documentation: https://pandas.pydata.org/pandas-docs/stable/user_guide/indexing.html#returning-a-view-versus-a-copy\n"
          ],
          "name": "stderr"
        },
        {
          "output_type": "execute_result",
          "data": {
            "text/html": [
              "<div>\n",
              "<style scoped>\n",
              "    .dataframe tbody tr th:only-of-type {\n",
              "        vertical-align: middle;\n",
              "    }\n",
              "\n",
              "    .dataframe tbody tr th {\n",
              "        vertical-align: top;\n",
              "    }\n",
              "\n",
              "    .dataframe thead th {\n",
              "        text-align: right;\n",
              "    }\n",
              "</style>\n",
              "<table border=\"1\" class=\"dataframe\">\n",
              "  <thead>\n",
              "    <tr style=\"text-align: right;\">\n",
              "      <th></th>\n",
              "      <th>total</th>\n",
              "      <th>category</th>\n",
              "    </tr>\n",
              "  </thead>\n",
              "  <tbody>\n",
              "    <tr>\n",
              "      <th>0</th>\n",
              "      <td>there were mass shootings in texas last week ...</td>\n",
              "      <td>CRIME</td>\n",
              "    </tr>\n",
              "    <tr>\n",
              "      <th>1</th>\n",
              "      <td>will smith joins diplo and nicky jam for the ...</td>\n",
              "      <td>ENTERTAINMENT</td>\n",
              "    </tr>\n",
              "    <tr>\n",
              "      <th>2</th>\n",
              "      <td>hugh grant marries for the first time at age ...</td>\n",
              "      <td>ENTERTAINMENT</td>\n",
              "    </tr>\n",
              "    <tr>\n",
              "      <th>3</th>\n",
              "      <td>jim carrey blasts castrato adam schiff and de...</td>\n",
              "      <td>ENTERTAINMENT</td>\n",
              "    </tr>\n",
              "    <tr>\n",
              "      <th>4</th>\n",
              "      <td>julianna margulies uses donald trump poop bag...</td>\n",
              "      <td>ENTERTAINMENT</td>\n",
              "    </tr>\n",
              "  </tbody>\n",
              "</table>\n",
              "</div>"
            ],
            "text/plain": [
              "                                               total       category\n",
              "0   there were mass shootings in texas last week ...          CRIME\n",
              "1   will smith joins diplo and nicky jam for the ...  ENTERTAINMENT\n",
              "2   hugh grant marries for the first time at age ...  ENTERTAINMENT\n",
              "3   jim carrey blasts castrato adam schiff and de...  ENTERTAINMENT\n",
              "4   julianna margulies uses donald trump poop bag...  ENTERTAINMENT"
            ]
          },
          "metadata": {
            "tags": []
          },
          "execution_count": 62
        }
      ]
    },
    {
      "cell_type": "code",
      "metadata": {
        "id": "yUZxYLyX_DUd"
      },
      "source": [
        "df_cleaned.to_csv('clean.csv', index = False)"
      ],
      "execution_count": 63,
      "outputs": []
    },
    {
      "cell_type": "markdown",
      "metadata": {
        "id": "DXFjL1d4E7e7"
      },
      "source": [
        "## Using TF-IDF"
      ]
    },
    {
      "cell_type": "code",
      "metadata": {
        "id": "NAkk05qGtLb3"
      },
      "source": [
        "#from google.colab import files\r\n",
        "#files.upload()"
      ],
      "execution_count": null,
      "outputs": []
    },
    {
      "cell_type": "code",
      "metadata": {
        "id": "_HCmXeHntUS_",
        "colab": {
          "base_uri": "https://localhost:8080/",
          "height": 195
        },
        "outputId": "9a4bd9b4-9731-4d89-b7b0-c72fb95067ce"
      },
      "source": [
        "df_cleaned = pd.read_csv(\"/content/clean.csv\")\r\n",
        "df_cleaned.head()"
      ],
      "execution_count": 66,
      "outputs": [
        {
          "output_type": "execute_result",
          "data": {
            "text/html": [
              "<div>\n",
              "<style scoped>\n",
              "    .dataframe tbody tr th:only-of-type {\n",
              "        vertical-align: middle;\n",
              "    }\n",
              "\n",
              "    .dataframe tbody tr th {\n",
              "        vertical-align: top;\n",
              "    }\n",
              "\n",
              "    .dataframe thead th {\n",
              "        text-align: right;\n",
              "    }\n",
              "</style>\n",
              "<table border=\"1\" class=\"dataframe\">\n",
              "  <thead>\n",
              "    <tr style=\"text-align: right;\">\n",
              "      <th></th>\n",
              "      <th>total</th>\n",
              "      <th>category</th>\n",
              "    </tr>\n",
              "  </thead>\n",
              "  <tbody>\n",
              "    <tr>\n",
              "      <th>0</th>\n",
              "      <td>there were mass shootings in texas last week ...</td>\n",
              "      <td>CRIME</td>\n",
              "    </tr>\n",
              "    <tr>\n",
              "      <th>1</th>\n",
              "      <td>will smith joins diplo and nicky jam for the ...</td>\n",
              "      <td>ENTERTAINMENT</td>\n",
              "    </tr>\n",
              "    <tr>\n",
              "      <th>2</th>\n",
              "      <td>hugh grant marries for the first time at age ...</td>\n",
              "      <td>ENTERTAINMENT</td>\n",
              "    </tr>\n",
              "    <tr>\n",
              "      <th>3</th>\n",
              "      <td>jim carrey blasts castrato adam schiff and de...</td>\n",
              "      <td>ENTERTAINMENT</td>\n",
              "    </tr>\n",
              "    <tr>\n",
              "      <th>4</th>\n",
              "      <td>julianna margulies uses donald trump poop bag...</td>\n",
              "      <td>ENTERTAINMENT</td>\n",
              "    </tr>\n",
              "  </tbody>\n",
              "</table>\n",
              "</div>"
            ],
            "text/plain": [
              "                                               total       category\n",
              "0   there were mass shootings in texas last week ...          CRIME\n",
              "1   will smith joins diplo and nicky jam for the ...  ENTERTAINMENT\n",
              "2   hugh grant marries for the first time at age ...  ENTERTAINMENT\n",
              "3   jim carrey blasts castrato adam schiff and de...  ENTERTAINMENT\n",
              "4   julianna margulies uses donald trump poop bag...  ENTERTAINMENT"
            ]
          },
          "metadata": {
            "tags": []
          },
          "execution_count": 66
        }
      ]
    },
    {
      "cell_type": "code",
      "metadata": {
        "id": "e1XnZBzlv5XG"
      },
      "source": [
        "#df_cleaned.drop('Unnamed: 0', axis = 1, inplace = True)\r\n",
        "df_cleaned.dropna(inplace=True)"
      ],
      "execution_count": 67,
      "outputs": []
    },
    {
      "cell_type": "code",
      "metadata": {
        "id": "16gVzYDsFAq0"
      },
      "source": [
        "tfidf = TfidfVectorizer()\r\n",
        "X = tfidf.fit_transform(df_cleaned['total'])"
      ],
      "execution_count": 68,
      "outputs": []
    },
    {
      "cell_type": "code",
      "metadata": {
        "colab": {
          "base_uri": "https://localhost:8080/"
        },
        "id": "T-J2DdhdFAmr",
        "outputId": "184e468d-1754-452d-9e7c-ea36e1961aa5"
      },
      "source": [
        "#X = vectorizer.fit_transform(df_cleaned['total'])\r\n",
        "X.shape"
      ],
      "execution_count": 69,
      "outputs": [
        {
          "output_type": "execute_result",
          "data": {
            "text/plain": [
              "(181140, 83559)"
            ]
          },
          "metadata": {
            "tags": []
          },
          "execution_count": 69
        }
      ]
    },
    {
      "cell_type": "code",
      "metadata": {
        "id": "SOcSl1lwKsmi"
      },
      "source": [
        "pickle.dump(tfidf, open(\"tfidf.pkl\",\"wb\"))"
      ],
      "execution_count": 71,
      "outputs": []
    },
    {
      "cell_type": "code",
      "metadata": {
        "id": "YBAQ3PpVAZCs"
      },
      "source": [
        "y = df_cleaned['category']"
      ],
      "execution_count": 73,
      "outputs": []
    },
    {
      "cell_type": "code",
      "metadata": {
        "id": "ipbIjsiJZ4N6"
      },
      "source": [
        "x_train,x_test,y_train,y_test = train_test_split(X,y,test_size = 0.2)"
      ],
      "execution_count": 75,
      "outputs": []
    },
    {
      "cell_type": "markdown",
      "metadata": {
        "id": "iVTqfaddd-Rd"
      },
      "source": [
        "\r\n",
        "\r\n",
        "---\r\n",
        "\r\n",
        "---\r\n",
        "\r\n",
        "\r\n",
        "# Model Building\r\n",
        "\r\n",
        "\r\n",
        "\r\n",
        "\r\n",
        "---\r\n",
        "\r\n",
        "\r\n",
        "---\r\n",
        "\r\n",
        "\r\n"
      ]
    },
    {
      "cell_type": "markdown",
      "metadata": {
        "id": "yUaMVpxxZgc3"
      },
      "source": [
        "## Using Logistic Regression"
      ]
    },
    {
      "cell_type": "code",
      "metadata": {
        "id": "4B_zlxT3aKH9"
      },
      "source": [
        "Lg = LogisticRegression(max_iter = 1000).fit(x_train,y_train)"
      ],
      "execution_count": 76,
      "outputs": []
    },
    {
      "cell_type": "code",
      "metadata": {
        "id": "BDUmkAl3laqj",
        "colab": {
          "base_uri": "https://localhost:8080/"
        },
        "outputId": "7babf680-ef70-41c5-993a-79e77a88d757"
      },
      "source": [
        "pred = Lg.predict(x_test)\r\n",
        "print(accuracy_score(y_test,pred))\r\n",
        "print(matthews_corrcoef(y_test, pred))"
      ],
      "execution_count": 77,
      "outputs": [
        {
          "output_type": "stream",
          "text": [
            "0.6535552611239925\n",
            "0.6266299638415338\n"
          ],
          "name": "stdout"
        }
      ]
    },
    {
      "cell_type": "code",
      "metadata": {
        "id": "oPwRob1aqNuR",
        "colab": {
          "base_uri": "https://localhost:8080/",
          "height": 371
        },
        "outputId": "76fef1e3-d734-4b2f-f60b-bf3b50028cf3"
      },
      "source": [
        "plot_confusion_matrix(Lg, x_test, y_test,xticks_rotation='vertical',include_values=False)"
      ],
      "execution_count": 78,
      "outputs": [
        {
          "output_type": "execute_result",
          "data": {
            "text/plain": [
              "<sklearn.metrics._plot.confusion_matrix.ConfusionMatrixDisplay at 0x7fc65fde3b38>"
            ]
          },
          "metadata": {
            "tags": []
          },
          "execution_count": 78
        },
        {
          "output_type": "display_data",
          "data": {
            "image/png": "[encoded data removed]",
            "text/plain": [
              "<Figure size 432x288 with 2 Axes>"
            ]
          },
          "metadata": {
            "tags": [],
            "needs_background": "light"
          }
        }
      ]
    },
    {
      "cell_type": "code",
      "metadata": {
        "id": "Z6SyGBBqebHf"
      },
      "source": [
        "pickle.dump(Lg,open(\"LogisticRegression_model.pkl\",\"wb\"))"
      ],
      "execution_count": 79,
      "outputs": []
    },
    {
      "cell_type": "code",
      "metadata": {
        "id": "B4HHQCz0esmo"
      },
      "source": [
        "#from google.colab import files\r\n",
        "#files.download(\"/content/LogisticRegression_model.pkl\")"
      ],
      "execution_count": null,
      "outputs": []
    },
    {
      "cell_type": "markdown",
      "metadata": {
        "id": "SoENE3kxrIF8"
      },
      "source": [
        "## Using MultinomialNB"
      ]
    },
    {
      "cell_type": "code",
      "metadata": {
        "id": "JPDWXI2uqReZ"
      },
      "source": [
        "nb = MultinomialNB().fit(x_train,y_train)"
      ],
      "execution_count": 80,
      "outputs": []
    },
    {
      "cell_type": "code",
      "metadata": {
        "id": "XMEmiQtEroCm",
        "colab": {
          "base_uri": "https://localhost:8080/"
        },
        "outputId": "8e058712-b40f-494a-f963-135d592d2f5a"
      },
      "source": [
        "pred = nb.predict(x_test)\r\n",
        "print(accuracy_score(y_test,pred))\r\n",
        "print(matthews_corrcoef(y_test, pred))"
      ],
      "execution_count": 81,
      "outputs": [
        {
          "output_type": "stream",
          "text": [
            "0.4408468587832616\n",
            "0.3974195976432485\n"
          ],
          "name": "stdout"
        }
      ]
    },
    {
      "cell_type": "code",
      "metadata": {
        "id": "q648ZwQhNedi"
      },
      "source": [
        "pickle.dump(nb,open(\"MultinomialNB_model.pkl\",\"wb\"))"
      ],
      "execution_count": 82,
      "outputs": []
    },
    {
      "cell_type": "code",
      "metadata": {
        "id": "BWdCt1v6ruCs",
        "colab": {
          "base_uri": "https://localhost:8080/",
          "height": 371
        },
        "outputId": "656dfc88-b648-4819-c442-94452ed8ce02"
      },
      "source": [
        "plot_confusion_matrix(nb, x_test, y_test,xticks_rotation='vertical',include_values=False)"
      ],
      "execution_count": 83,
      "outputs": [
        {
          "output_type": "execute_result",
          "data": {
            "text/plain": [
              "<sklearn.metrics._plot.confusion_matrix.ConfusionMatrixDisplay at 0x7fc65fcbdcc0>"
            ]
          },
          "metadata": {
            "tags": []
          },
          "execution_count": 83
        },
        {
          "output_type": "display_data",
          "data": {
            "image/png": "[encoded data removed]",
            "text/plain": [
              "<Figure size 432x288 with 2 Axes>"
            ]
          },
          "metadata": {
            "tags": [],
            "needs_background": "light"
          }
        }
      ]
    },
    {
      "cell_type": "markdown",
      "metadata": {
        "id": "mX7E1X-x3NUt"
      },
      "source": [
        "# Using SVM"
      ]
    },
    {
      "cell_type": "code",
      "metadata": {
        "id": "xHcgfJBe3U9y"
      },
      "source": [
        "sm = SVC(kernel='rbf').fit(x_train,y_train)"
      ],
      "execution_count": null,
      "outputs": []
    },
    {
      "cell_type": "code",
      "metadata": {
        "id": "KTXUq7D23fJY"
      },
      "source": [
        "pred = sm.predict(x_test)\r\n",
        "print(accuracy_score(y_test,pred))\r\n",
        "print(matthews_corrcoef(y_test, pred))"
      ],
      "execution_count": null,
      "outputs": []
    },
    {
      "cell_type": "code",
      "metadata": {
        "id": "CROmNANF3fJZ"
      },
      "source": [
        "plot_confusion_matrix(sm, x_test, y_test,xticks_rotation='vertical',include_values=False)"
      ],
      "execution_count": null,
      "outputs": []
    },
    {
      "cell_type": "markdown",
      "metadata": {
        "id": "ihKAYmxkFN8t"
      },
      "source": [
        "#Using Zeugma"
      ]
    },
    {
      "cell_type": "code",
      "metadata": {
        "colab": {
          "base_uri": "https://localhost:8080/"
        },
        "id": "xlmyTzWqFNkZ",
        "outputId": "e46175b7-a5c0-442f-b895-099eadff7237"
      },
      "source": [
        "glove = EmbeddingTransformer('glove')"
      ],
      "execution_count": null,
      "outputs": [
        {
          "output_type": "stream",
          "text": [
            "[==================================================] 100.0% 104.8/104.8MB downloaded\n"
          ],
          "name": "stdout"
        }
      ]
    },
    {
      "cell_type": "code",
      "metadata": {
        "id": "mmbPQXqx3j6Y"
      },
      "source": [
        "x_train,x_test,y_train,y_test = train_test_split(df_cleaned['short_description'], df_cleaned['category'], test_size = 0.3)"
      ],
      "execution_count": null,
      "outputs": []
    },
    {
      "cell_type": "code",
      "metadata": {
        "colab": {
          "base_uri": "https://localhost:8080/"
        },
        "id": "4p07V5_YGFts",
        "outputId": "492d4b87-f699-46ff-c63e-ae37df8b1106"
      },
      "source": [
        "x_train.shape"
      ],
      "execution_count": null,
      "outputs": [
        {
          "output_type": "execute_result",
          "data": {
            "text/plain": [
              "(126798,)"
            ]
          },
          "metadata": {
            "tags": []
          },
          "execution_count": 69
        }
      ]
    },
    {
      "cell_type": "code",
      "metadata": {
        "colab": {
          "base_uri": "https://localhost:8080/"
        },
        "id": "xMPsPUexF7A0",
        "outputId": "d3c9c23e-a13e-493e-af42-ebaefeb54938"
      },
      "source": [
        "X_train = glove.transform(x_train)\r\n",
        "X_train.shape"
      ],
      "execution_count": null,
      "outputs": [
        {
          "output_type": "execute_result",
          "data": {
            "text/plain": [
              "(126798, 25)"
            ]
          },
          "metadata": {
            "tags": []
          },
          "execution_count": 70
        }
      ]
    },
    {
      "cell_type": "code",
      "metadata": {
        "colab": {
          "base_uri": "https://localhost:8080/"
        },
        "id": "cYxTC6KOF69-",
        "outputId": "07bff42e-7c52-482b-a7ac-41509ed24301"
      },
      "source": [
        "model = LogisticRegression(max_iter = 1000)\r\n",
        "model.fit(X_train, y_train)"
      ],
      "execution_count": null,
      "outputs": [
        {
          "output_type": "execute_result",
          "data": {
            "text/plain": [
              "LogisticRegression(C=1.0, class_weight=None, dual=False, fit_intercept=True,\n",
              "                   intercept_scaling=1, l1_ratio=None, max_iter=1000,\n",
              "                   multi_class='auto', n_jobs=None, penalty='l2',\n",
              "                   random_state=None, solver='lbfgs', tol=0.0001, verbose=0,\n",
              "                   warm_start=False)"
            ]
          },
          "metadata": {
            "tags": []
          },
          "execution_count": 71
        }
      ]
    },
    {
      "cell_type": "code",
      "metadata": {
        "id": "Nn267JCyF6yc"
      },
      "source": [
        "X_test = glove.transform(x_test)"
      ],
      "execution_count": null,
      "outputs": []
    },
    {
      "cell_type": "code",
      "metadata": {
        "id": "-C_V8HbWGVkb"
      },
      "source": [
        "pred = model.predict(X_test)"
      ],
      "execution_count": null,
      "outputs": []
    },
    {
      "cell_type": "code",
      "metadata": {
        "colab": {
          "base_uri": "https://localhost:8080/"
        },
        "id": "x1fSd6gSGmzc",
        "outputId": "e5c8a1bf-719f-4724-bd26-01d8bc27a980"
      },
      "source": [
        "pred"
      ],
      "execution_count": null,
      "outputs": [
        {
          "output_type": "execute_result",
          "data": {
            "text/plain": [
              "array(['POLITICS', 'POLITICS', 'ENTERTAINMENT', ..., 'POLITICS',\n",
              "       'WELLNESS', 'POLITICS'], dtype=object)"
            ]
          },
          "metadata": {
            "tags": []
          },
          "execution_count": 74
        }
      ]
    },
    {
      "cell_type": "code",
      "metadata": {
        "colab": {
          "base_uri": "https://localhost:8080/",
          "height": 371
        },
        "id": "T83UsH-KGpzl",
        "outputId": "2f391606-0f28-4607-e7a0-a7a3f9b744ac"
      },
      "source": [
        "plot_confusion_matrix(model, X_test, y_test,xticks_rotation='vertical',include_values=False)"
      ],
      "execution_count": null,
      "outputs": [
        {
          "output_type": "execute_result",
          "data": {
            "text/plain": [
              "<sklearn.metrics._plot.confusion_matrix.ConfusionMatrixDisplay at 0x7ff84c538d30>"
            ]
          },
          "metadata": {
            "tags": []
          },
          "execution_count": 75
        },
        {
          "output_type": "display_data",
          "data": {
            "image/png": "[encoded data removed]",
            "text/plain": [
              "<Figure size 432x288 with 2 Axes>"
            ]
          },
          "metadata": {
            "tags": [],
            "needs_background": "light"
          }
        }
      ]
    },
    {
      "cell_type": "code",
      "metadata": {
        "colab": {
          "base_uri": "https://localhost:8080/"
        },
        "id": "u4QXzyLJG2Jo",
        "outputId": "5bd80ab0-bfed-456b-9997-8211fdede27e"
      },
      "source": [
        "accuracy_score(y_test, pred)"
      ],
      "execution_count": null,
      "outputs": [
        {
          "output_type": "execute_result",
          "data": {
            "text/plain": [
              "0.3220345221007692"
            ]
          },
          "metadata": {
            "tags": []
          },
          "execution_count": 76
        }
      ]
    }
  ]
}